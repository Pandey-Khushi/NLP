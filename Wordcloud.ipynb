{
 "cells": [
  {
   "cell_type": "markdown",
   "id": "6e5be79d-49ac-4d7a-9056-b0f72cfa44e0",
   "metadata": {},
   "source": [
    "# word cloud"
   ]
  },
  {
   "cell_type": "markdown",
   "id": "9fb28408-325d-402a-abb3-a1abd7d0d010",
   "metadata": {},
   "source": [
    "### 1. Corpus Preprocessing"
   ]
  },
  {
   "cell_type": "code",
   "execution_count": 1,
   "id": "fbe4d03b-6e90-4545-9f0e-bf8a8300e427",
   "metadata": {},
   "outputs": [
    {
     "name": "stderr",
     "output_type": "stream",
     "text": [
      "C:\\Users\\Khushi\\AppData\\Roaming\\Python\\Python312\\site-packages\\nltk\\metrics\\association.py:26: UserWarning: A NumPy version >=1.23.5 and <2.3.0 is required for this version of SciPy (detected version 2.3.2)\n",
      "  from scipy.stats import fisher_exact\n"
     ]
    },
    {
     "name": "stdout",
     "output_type": "stream",
     "text": [
      "India, officially the Republic of India (Hindi: Bhārat Gaṇarājya, is a country in South Asia...\n"
     ]
    }
   ],
   "source": [
    "from nltk.tokenize import word_tokenize, sent_tokenize\n",
    "from nltk.corpus import stopwords\n",
    "\n",
    "corpus = '''India, officially the Republic of India (Hindi: Bhārat Gaṇarājya),[25] is a country in South Asia...'''  # Truncated for brevity\n",
    "\n",
    "# Clean the corpus\n",
    "corpus = corpus.replace(\"[25]\", \"\").replace(\"[f]\", \"\").replace(\")\", \"\")\n",
    "print(corpus)"
   ]
  },
  {
   "cell_type": "markdown",
   "id": "aabdd84a-d56e-4492-b62a-88804d283484",
   "metadata": {},
   "source": [
    "### 2. Stop Words Removal"
   ]
  },
  {
   "cell_type": "code",
   "execution_count": 2,
   "id": "83a1c467-018a-46c0-b59e-ed136a241320",
   "metadata": {},
   "outputs": [
    {
     "name": "stdout",
     "output_type": "stream",
     "text": [
      "Filtered Words: ['india', 'officially', 'republic', 'india', 'hindi', 'bhārat', 'gaṇarājya', 'country', 'south', 'asia', '...']\n"
     ]
    }
   ],
   "source": [
    "words = []\n",
    "for word in word_tokenize(corpus):\n",
    "    if (word.lower() not in stopwords.words('english')) and (len(word) >= 2):\n",
    "        words.append(word.lower())\n",
    "\n",
    "print(\"Filtered Words:\", words)"
   ]
  },
  {
   "cell_type": "markdown",
   "id": "56618e47-008b-4e4a-acd1-b966d9413fb2",
   "metadata": {},
   "source": [
    "### 3. Building Vocabulary"
   ]
  },
  {
   "cell_type": "code",
   "execution_count": 3,
   "id": "64aa8318-04a9-4b2a-9497-da202ae75fcc",
   "metadata": {},
   "outputs": [
    {
     "name": "stdout",
     "output_type": "stream",
     "text": [
      "Vocabulary Size: 10\n",
      "Sample Vocabulary: ['officially', '...', 'south', 'asia', 'country']\n"
     ]
    }
   ],
   "source": [
    "vocab = list(set(words))  # Remove duplicates using set\n",
    "print(\"Vocabulary Size:\", len(vocab))  # Output: 48\n",
    "print(\"Sample Vocabulary:\", vocab[:5])"
   ]
  },
  {
   "cell_type": "code",
   "execution_count": null,
   "id": "36b2303f-c7d2-4a09-8610-9c39cd35d00d",
   "metadata": {},
   "outputs": [],
   "source": []
  },
  {
   "cell_type": "markdown",
   "id": "e9c81492-2056-461d-81a9-5d1b9e222d9e",
   "metadata": {},
   "source": [
    "## Text-Encoding and Decoding\n"
   ]
  },
  {
   "cell_type": "code",
   "execution_count": 7,
   "id": "a3df32ee-133e-4a76-907d-4e09a424c286",
   "metadata": {},
   "outputs": [
    {
     "name": "stdout",
     "output_type": "stream",
     "text": [
      "India, officially the Republic of India (Hindi: Bhārat Gaṇarājya, is a country in South Asia...\n"
     ]
    }
   ],
   "source": [
    "for sent in sent_tokenize(corpus):\n",
    "    print(sent)"
   ]
  },
  {
   "cell_type": "code",
   "execution_count": 8,
   "id": "062dc4f2-390d-4c5b-a930-efeaf5bbc785",
   "metadata": {},
   "outputs": [
    {
     "name": "stdout",
     "output_type": "stream",
     "text": [
      "['India', ',', 'officially', 'the', 'Republic', 'of', 'India', '(', 'Hindi', ':', 'Bhārat', 'Gaṇarājya', ',', 'is', 'a', 'country', 'in', 'South', 'Asia', '...']\n"
     ]
    }
   ],
   "source": [
    "for sent in sent_tokenize(corpus):\n",
    "    print(word_tokenize(sent))"
   ]
  },
  {
   "cell_type": "code",
   "execution_count": 9,
   "id": "e0f45fe1-6924-4b40-b245-a50e40e21437",
   "metadata": {},
   "outputs": [
    {
     "name": "stdout",
     "output_type": "stream",
     "text": [
      "India officially Republic India Hindi Bhārat Gaṇarājya country South Asia ... \n"
     ]
    }
   ],
   "source": [
    "for sent in sent_tokenize(corpus):\n",
    "    for word in word_tokenize(sent):\n",
    "        if (word.lower() not in stopwords.words('english')) and (len(word)>=2):\n",
    "            print(word,end=' ')\n",
    "    print()"
   ]
  },
  {
   "cell_type": "code",
   "execution_count": 10,
   "id": "a07311b5-cda4-4d6d-a217-7c28e6d04eae",
   "metadata": {},
   "outputs": [],
   "source": [
    "words=[]\n",
    "for word in word_tokenize(corpus):\n",
    "    if (word.lower() not in stopwords.words('english')) and (len(word)>=2):\n",
    "        words.append(word.lower())\n",
    "\n",
    "vocab=list(set(words))\n",
    "len(vocab)\n",
    "\n",
    "num=1\n",
    "word_to_num={}\n",
    "num_to_word={}\n",
    "for word in vocab:\n",
    "    word_to_num[word]=num\n",
    "    num_to_word[num]=word\n",
    "    num+=1"
   ]
  },
  {
   "cell_type": "code",
   "execution_count": 11,
   "id": "6fa4cb0e-6774-42b9-af05-ee23ebfeb482",
   "metadata": {},
   "outputs": [
    {
     "name": "stdout",
     "output_type": "stream",
     "text": [
      "India 8 officially 1 Republic 6 India 8 Hindi 7 Bhārat 10 Gaṇarājya 9 country 5 South 3 Asia 4 ... 2 \n"
     ]
    }
   ],
   "source": [
    "for sent in sent_tokenize(corpus):\n",
    "    for word in word_tokenize(sent):\n",
    "        if (word.lower() not in stopwords.words('english')) and (len(word)>=2):\n",
    "            print(word,end=' ')\n",
    "            print(word_to_num[word.lower()],end=' ')\n",
    "    print()"
   ]
  },
  {
   "cell_type": "markdown",
   "id": "b2a91e8f-700e-40b3-ab14-b90d5207a02a",
   "metadata": {},
   "source": [
    "### To get the exactly encoded numbers:"
   ]
  },
  {
   "cell_type": "code",
   "execution_count": 12,
   "id": "c0fd58f7-70e7-4214-978c-73685e15c58a",
   "metadata": {},
   "outputs": [
    {
     "name": "stdout",
     "output_type": "stream",
     "text": [
      "[8, 1, 6, 8, 7, 10, 9, 5, 3, 4, 2]\n",
      "\n"
     ]
    }
   ],
   "source": [
    "data=[]\n",
    "for sent in sent_tokenize(corpus):\n",
    "    temp=[]\n",
    "    for word in word_tokenize(sent):\n",
    "        if (word.lower() not in stopwords.words('english')) and (len(word)>=2):\n",
    "            #print(word,end=' ')\n",
    "            temp.append(word_to_num[word.lower()])\n",
    "    print(temp)\n",
    "    data.append(temp)\n",
    "    print()"
   ]
  },
  {
   "cell_type": "code",
   "execution_count": 13,
   "id": "13cd3a7e-c17c-4bb2-a0ec-c510cf8686c6",
   "metadata": {},
   "outputs": [
    {
     "name": "stdout",
     "output_type": "stream",
     "text": [
      "[8, 1, 6, 8, 7, 10, 9, 5, 3, 4, 2]\n"
     ]
    }
   ],
   "source": [
    "for sent in data:\n",
    "    print(sent)"
   ]
  },
  {
   "cell_type": "code",
   "execution_count": 14,
   "id": "8fcb8ed7-88d4-477f-b4fa-e167dc898d1b",
   "metadata": {},
   "outputs": [
    {
     "name": "stdout",
     "output_type": "stream",
     "text": [
      "india officially republic india hindi bhārat gaṇarājya country south asia ... \n"
     ]
    }
   ],
   "source": [
    "for sent in data:\n",
    "    for word in sent:\n",
    "        print(num_to_word[word],end=' ')\n",
    "    print()"
   ]
  },
  {
   "cell_type": "code",
   "execution_count": null,
   "id": "3211fba3-8715-4bae-bbdf-e69c08a7f9ba",
   "metadata": {},
   "outputs": [],
   "source": []
  },
  {
   "cell_type": "markdown",
   "id": "0050c4a2-a925-4420-8930-749bfaa38513",
   "metadata": {},
   "source": [
    "## Text Encoding - Decoding | Without Stop Words"
   ]
  },
  {
   "cell_type": "code",
   "execution_count": 15,
   "id": "f540ffc1-f652-4506-921d-755e1c2348a5",
   "metadata": {},
   "outputs": [],
   "source": [
    "from nltk.tokenize import word_tokenize,sent_tokenize\n",
    "from nltk.corpus import stopwords\n",
    "\n",
    "corpus='''India, officially the Republic of India (Hindi: Bhārat Gaṇarājya),[25] is a country in South Asia. It is the seventh-largest country by area, the second-most populous country, and the most populous democracy in the world. Bounded by the Indian Ocean on the south, the Arabian Sea on the southwest, and the Bay of Bengal on the southeast, it shares land borders with Pakistan to the west;[f] China, Nepal, and Bhutan to the north; and Bangladesh and Myanmar to the east. In the Indian Ocean, India is in the vicinity of Sri Lanka and the Maldives; its Andaman and Nicobar Islands share a maritime border with Thailand, Myanmar, and Indonesia.'''\n",
    "\n",
    "corpus = corpus.replace(\"[25]\" , \"\")    \n",
    "corpus = corpus.replace(\"[f]\" , \"\")   \n",
    "corpus = corpus.replace(\")\" , \"\")"
   ]
  },
  {
   "cell_type": "code",
   "execution_count": 16,
   "id": "983ffa00-e0f2-4b76-8483-fe0839809b42",
   "metadata": {},
   "outputs": [],
   "source": [
    "words=[]\n",
    "for word in word_tokenize(corpus):\n",
    "    if(len(word)==1):\n",
    "        if((ord(word)>=97 and ord(word)<=122) or (ord(word)>=65 and ord(word)<=90)):\n",
    "            words.append(word.lower())\n",
    "    else:\n",
    "        words.append(word.lower())"
   ]
  },
  {
   "cell_type": "code",
   "execution_count": 17,
   "id": "cc8cd693-bbff-4ac2-bf1a-66fb2a25d55f",
   "metadata": {},
   "outputs": [
    {
     "name": "stdout",
     "output_type": "stream",
     "text": [
      "61\n"
     ]
    }
   ],
   "source": [
    "vocab=list(set(words))\n",
    "print(len(vocab))"
   ]
  },
  {
   "cell_type": "code",
   "execution_count": 18,
   "id": "d90d235f-203f-4f18-8f6d-3ed6af42a46c",
   "metadata": {},
   "outputs": [],
   "source": [
    "num=1\n",
    "word_to_num={}\n",
    "num_to_word={}\n",
    "for word in vocab:\n",
    "    word_to_num[word]=num\n",
    "    num_to_word[num]=word\n",
    "    num+=1"
   ]
  },
  {
   "cell_type": "code",
   "execution_count": 19,
   "id": "255f7a3a-fc15-4eb5-94eb-72d86fa69b80",
   "metadata": {},
   "outputs": [
    {
     "name": "stdout",
     "output_type": "stream",
     "text": [
      "[[54, 29, 9, 34, 6, 54, 17, 43, 8, 4, 60, 16, 61, 14, 1], [57, 4, 9, 53, 16, 11, 12, 9, 2, 59, 16, 26, 9, 46, 59, 18, 61, 9, 20], [58, 11, 9, 39, 7, 23, 9, 14, 9, 5, 45, 23, 9, 27, 26, 9, 56, 6, 42, 23, 9, 50, 57, 35, 24, 13, 55, 44, 40, 9, 47, 48, 28, 26, 3, 40, 9, 22, 26, 21, 26, 49, 40, 9, 19], [61, 9, 39, 7, 54, 4, 61, 9, 25, 6, 31, 32, 26, 9, 36, 41, 15, 26, 37, 51, 10, 60, 30, 52, 55, 33, 49, 26, 38]]\n"
     ]
    }
   ],
   "source": [
    "data=[]\n",
    "for sent in sent_tokenize(corpus):\n",
    "    temp=[]\n",
    "    for word in word_tokenize(sent):\n",
    "        if(len(word)==1):\n",
    "            if((ord(word)>=97 and ord(word)<=122) or (ord(word)>=65 and ord(word)<=90)):\n",
    "                temp.append(word_to_num[word.lower()])\n",
    "        else:\n",
    "            temp.append(word_to_num[word.lower()])\n",
    "    data.append(temp)\n",
    "print(data)"
   ]
  },
  {
   "cell_type": "code",
   "execution_count": 20,
   "id": "9683ecdc-4c3e-4c07-b495-7414d47e7781",
   "metadata": {},
   "outputs": [
    {
     "name": "stdout",
     "output_type": "stream",
     "text": [
      "india officially the republic of india hindi bhārat gaṇarājya is a country in south asia \n",
      "it is the seventh-largest country by area the second-most populous country and the most populous democracy in the world \n",
      "bounded by the indian ocean on the south the arabian sea on the southwest and the bay of bengal on the southeast it shares land borders with pakistan to the west china nepal and bhutan to the north and bangladesh and myanmar to the east \n",
      "in the indian ocean india is in the vicinity of sri lanka and the maldives its andaman and nicobar islands share a maritime border with thailand myanmar and indonesia \n"
     ]
    }
   ],
   "source": [
    "for sent in data:\n",
    "    for word in sent:\n",
    "        print(num_to_word[word],end=' ')\n",
    "    print()"
   ]
  },
  {
   "cell_type": "code",
   "execution_count": null,
   "id": "045dff31-f650-455e-b4aa-8b4c8bc15df8",
   "metadata": {},
   "outputs": [],
   "source": []
  }
 ],
 "metadata": {
  "kernelspec": {
   "display_name": "Python 3 (ipykernel)",
   "language": "python",
   "name": "python3"
  },
  "language_info": {
   "codemirror_mode": {
    "name": "ipython",
    "version": 3
   },
   "file_extension": ".py",
   "mimetype": "text/x-python",
   "name": "python",
   "nbconvert_exporter": "python",
   "pygments_lexer": "ipython3",
   "version": "3.12.0"
  }
 },
 "nbformat": 4,
 "nbformat_minor": 5
}
