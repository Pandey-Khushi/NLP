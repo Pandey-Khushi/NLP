{
 "cells": [
  {
   "cell_type": "markdown",
   "id": "59ecf6da-eb0e-45ac-9cc5-721e3fae8f5a",
   "metadata": {},
   "source": [
    "## Regular Expression"
   ]
  },
  {
   "cell_type": "code",
   "execution_count": 1,
   "id": "d9f7d68a-ae4a-4e49-b347-a5539711c7a1",
   "metadata": {},
   "outputs": [],
   "source": [
    "import re"
   ]
  },
  {
   "cell_type": "code",
   "execution_count": 2,
   "id": "4097301c-9926-4d46-8d09-395112765d0b",
   "metadata": {},
   "outputs": [
    {
     "data": {
      "text/plain": [
       "'Hello, how are you'"
      ]
     },
     "execution_count": 2,
     "metadata": {},
     "output_type": "execute_result"
    }
   ],
   "source": [
    "\"Hello, how are you\""
   ]
  },
  {
   "cell_type": "code",
   "execution_count": 3,
   "id": "d5bde889-2fdd-417c-a979-29c64c84b1c1",
   "metadata": {},
   "outputs": [
    {
     "data": {
      "text/plain": [
       "True"
      ]
     },
     "execution_count": 3,
     "metadata": {},
     "output_type": "execute_result"
    }
   ],
   "source": [
    "'You'.lower() in 'Hello, how are you'.lower()"
   ]
  },
  {
   "cell_type": "markdown",
   "id": "ace74803-79cb-43ae-b60a-280f9d23e00f",
   "metadata": {},
   "source": [
    "## 1.Searching"
   ]
  },
  {
   "cell_type": "code",
   "execution_count": 4,
   "id": "898c5cc7-0c14-4683-9a87-e526826c13de",
   "metadata": {},
   "outputs": [],
   "source": [
    "srch=re.search('you', 'Hello, how are you')"
   ]
  },
  {
   "cell_type": "code",
   "execution_count": 5,
   "id": "23401f7f-c3e5-45d5-bf7a-cd4f933a6b5b",
   "metadata": {},
   "outputs": [
    {
     "data": {
      "text/plain": [
       "<re.Match object; span=(15, 18), match='you'>"
      ]
     },
     "execution_count": 5,
     "metadata": {},
     "output_type": "execute_result"
    }
   ],
   "source": [
    "srch"
   ]
  },
  {
   "cell_type": "markdown",
   "id": "26de0f90-4bbc-4496-8def-043ae9eeda59",
   "metadata": {},
   "source": [
    "span is nothing but index "
   ]
  },
  {
   "cell_type": "code",
   "execution_count": 6,
   "id": "e62c16d7-1510-4d6a-9c34-c346d93e9548",
   "metadata": {},
   "outputs": [
    {
     "data": {
      "text/plain": [
       "(15, 18)"
      ]
     },
     "execution_count": 6,
     "metadata": {},
     "output_type": "execute_result"
    }
   ],
   "source": [
    "srch.span()"
   ]
  },
  {
   "cell_type": "code",
   "execution_count": 7,
   "id": "da62f3f9-af67-42fb-bd16-a28b48be016b",
   "metadata": {},
   "outputs": [
    {
     "data": {
      "text/plain": [
       "15"
      ]
     },
     "execution_count": 7,
     "metadata": {},
     "output_type": "execute_result"
    }
   ],
   "source": [
    "srch.start()"
   ]
  },
  {
   "cell_type": "code",
   "execution_count": 8,
   "id": "b0abc77e-c4a7-494d-9db4-8de4bf455aa0",
   "metadata": {},
   "outputs": [
    {
     "data": {
      "text/plain": [
       "18"
      ]
     },
     "execution_count": 8,
     "metadata": {},
     "output_type": "execute_result"
    }
   ],
   "source": [
    "srch.end()"
   ]
  },
  {
   "cell_type": "code",
   "execution_count": 10,
   "id": "5e4a9b69-55ef-483d-b597-0ea893a8364f",
   "metadata": {},
   "outputs": [
    {
     "data": {
      "text/plain": [
       "<re.Match object; span=(22, 24), match='is'>"
      ]
     },
     "execution_count": 10,
     "metadata": {},
     "output_type": "execute_result"
    }
   ],
   "source": [
    "a='how beautiful weather is'\n",
    "b='is'\n",
    "\n",
    "re.search(b,a)"
   ]
  },
  {
   "cell_type": "markdown",
   "id": "a15ec82b-4fa4-4945-a273-50b36896a706",
   "metadata": {},
   "source": [
    "## 2.findall"
   ]
  },
  {
   "cell_type": "code",
   "execution_count": 12,
   "id": "1bf2b7ec-2056-478a-b5a5-79d17aafec17",
   "metadata": {},
   "outputs": [
    {
     "data": {
      "text/plain": [
       "1"
      ]
     },
     "execution_count": 12,
     "metadata": {},
     "output_type": "execute_result"
    }
   ],
   "source": [
    "len(re.findall(b,a))"
   ]
  },
  {
   "cell_type": "code",
   "execution_count": 15,
   "id": "6b80e925-c5c2-498f-be38-a66827e22519",
   "metadata": {},
   "outputs": [
    {
     "name": "stdout",
     "output_type": "stream",
     "text": [
      "(22, 24)\n"
     ]
    }
   ],
   "source": [
    "for s in re.finditer('is','how beautiful weather is'):\n",
    "    print(s.span())"
   ]
  },
  {
   "cell_type": "markdown",
   "id": "f79b9d2f-7348-4d66-b89e-d8d827671193",
   "metadata": {},
   "source": [
    "## create regular expression"
   ]
  },
  {
   "cell_type": "code",
   "execution_count": 17,
   "id": "8d0aa3ae-7042-498f-9481-e835d4b91639",
   "metadata": {},
   "outputs": [
    {
     "name": "stderr",
     "output_type": "stream",
     "text": [
      "<>:3: SyntaxWarning: invalid escape sequence '\\d'\n",
      "<>:3: SyntaxWarning: invalid escape sequence '\\d'\n",
      "C:\\Users\\Khushi\\AppData\\Local\\Temp\\ipykernel_14460\\2504159297.py:3: SyntaxWarning: invalid escape sequence '\\d'\n",
      "  pattern='\\d\\d\\d\\d\\d\\d\\d\\d\\d\\d'\n"
     ]
    },
    {
     "data": {
      "text/plain": [
       "<re.Match object; span=(19, 29), match='9029205689'>"
      ]
     },
     "execution_count": 17,
     "metadata": {},
     "output_type": "execute_result"
    }
   ],
   "source": [
    "txt='My phone number is 9029205689'\n",
    "\n",
    "pattern='\\d\\d\\d\\d\\d\\d\\d\\d\\d\\d'\n",
    "\n",
    "re.search(pattern, txt)"
   ]
  },
  {
   "cell_type": "code",
   "execution_count": 18,
   "id": "91b70401-0d83-43f5-b84c-f2e713c0aa91",
   "metadata": {},
   "outputs": [
    {
     "name": "stderr",
     "output_type": "stream",
     "text": [
      "<>:3: SyntaxWarning: invalid escape sequence '\\w'\n",
      "<>:3: SyntaxWarning: invalid escape sequence '\\w'\n",
      "C:\\Users\\Khushi\\AppData\\Local\\Temp\\ipykernel_14460\\1517280213.py:3: SyntaxWarning: invalid escape sequence '\\w'\n",
      "  pattern='\\w\\w\\w\\w\\w\\w'\n"
     ]
    },
    {
     "data": {
      "text/plain": [
       "<re.Match object; span=(9, 15), match='number'>"
      ]
     },
     "execution_count": 18,
     "metadata": {},
     "output_type": "execute_result"
    }
   ],
   "source": [
    "txt='My phone number is 9029205689'\n",
    "\n",
    "pattern='\\w\\w\\w\\w\\w\\w'\n",
    "\n",
    "re.search(pattern, txt)"
   ]
  },
  {
   "cell_type": "code",
   "execution_count": 19,
   "id": "9775c8c1-9cf4-4022-bda1-a9dad2538252",
   "metadata": {},
   "outputs": [
    {
     "data": {
      "text/plain": [
       "'number'"
      ]
     },
     "execution_count": 19,
     "metadata": {},
     "output_type": "execute_result"
    }
   ],
   "source": [
    "re.search(pattern, txt).group()"
   ]
  },
  {
   "cell_type": "markdown",
   "id": "5264b63a-55f5-4ecb-acf8-6682bffd90de",
   "metadata": {},
   "source": [
    "more learn more "
   ]
  },
  {
   "cell_type": "markdown",
   "id": "b7b5dec2-aa8c-44df-b83b-4fbd4d0fb68c",
   "metadata": {},
   "source": [
    "go 101.com"
   ]
  },
  {
   "cell_type": "markdown",
   "id": "b37fe1f8-7018-4077-a292-53f73ef2a3b8",
   "metadata": {},
   "source": [
    "## Pattern Matching for alpha numeric"
   ]
  },
  {
   "cell_type": "code",
   "execution_count": 20,
   "id": "29d21ff7-108d-4fe8-a91c-402c0ed9e6e2",
   "metadata": {},
   "outputs": [],
   "source": [
    "import re"
   ]
  },
  {
   "cell_type": "code",
   "execution_count": 22,
   "id": "1629f8ca-ddf3-42d3-8f21-a19da555b12c",
   "metadata": {},
   "outputs": [
    {
     "data": {
      "text/plain": [
       "['at', 'at', 'at', 'at', 'at', 'at']"
      ]
     },
     "execution_count": 22,
     "metadata": {},
     "output_type": "execute_result"
    }
   ],
   "source": [
    "re.findall('at', 'The rat sat on that mat and attached by a cat')"
   ]
  },
  {
   "cell_type": "code",
   "execution_count": 23,
   "id": "aee551c2-ca99-4d29-8016-74b0d71a8a79",
   "metadata": {},
   "outputs": [
    {
     "data": {
      "text/plain": [
       "['rat', 'sat', 'hat', 'mat', ' at', 'cat']"
      ]
     },
     "execution_count": 23,
     "metadata": {},
     "output_type": "execute_result"
    }
   ],
   "source": [
    "re.findall('.at', 'The rat sat on that mat and attached by a cat')"
   ]
  },
  {
   "cell_type": "code",
   "execution_count": 25,
   "id": "30fe6806-c453-4682-97f5-0566cc2b70df",
   "metadata": {},
   "outputs": [
    {
     "name": "stderr",
     "output_type": "stream",
     "text": [
      "<>:1: SyntaxWarning: invalid escape sequence '\\d'\n",
      "<>:1: SyntaxWarning: invalid escape sequence '\\d'\n",
      "C:\\Users\\Khushi\\AppData\\Local\\Temp\\ipykernel_14460\\276313722.py:1: SyntaxWarning: invalid escape sequence '\\d'\n",
      "  re.findall('\\d', 'This a number 6 not 4')\n"
     ]
    },
    {
     "data": {
      "text/plain": [
       "['6', '4']"
      ]
     },
     "execution_count": 25,
     "metadata": {},
     "output_type": "execute_result"
    }
   ],
   "source": [
    "re.findall('\\d', 'This a number 6 not 4')"
   ]
  },
  {
   "cell_type": "markdown",
   "id": "8d9320d5-cdb9-4799-a66c-b0862aea4dcb",
   "metadata": {},
   "source": [
    "## Start and end pattern"
   ]
  },
  {
   "cell_type": "code",
   "execution_count": 26,
   "id": "b2d38134-bd7c-4357-a24d-22e84cba8719",
   "metadata": {},
   "outputs": [
    {
     "name": "stderr",
     "output_type": "stream",
     "text": [
      "<>:1: SyntaxWarning: invalid escape sequence '\\d'\n",
      "<>:1: SyntaxWarning: invalid escape sequence '\\d'\n",
      "C:\\Users\\Khushi\\AppData\\Local\\Temp\\ipykernel_14460\\3198113722.py:1: SyntaxWarning: invalid escape sequence '\\d'\n",
      "  re.findall('\\d$', 'This a number 6 not 4')\n"
     ]
    },
    {
     "data": {
      "text/plain": [
       "['4']"
      ]
     },
     "execution_count": 26,
     "metadata": {},
     "output_type": "execute_result"
    }
   ],
   "source": [
    "re.findall('\\d$', 'This a number 6 not 4')"
   ]
  },
  {
   "cell_type": "code",
   "execution_count": 27,
   "id": "9a1cf8c7-88b0-4736-9da1-ebe00f64be7d",
   "metadata": {},
   "outputs": [
    {
     "name": "stderr",
     "output_type": "stream",
     "text": [
      "<>:1: SyntaxWarning: invalid escape sequence '\\d'\n",
      "<>:1: SyntaxWarning: invalid escape sequence '\\d'\n",
      "C:\\Users\\Khushi\\AppData\\Local\\Temp\\ipykernel_14460\\350772993.py:1: SyntaxWarning: invalid escape sequence '\\d'\n",
      "  re.findall('\\d$', 'This a number 6 not 43')\n"
     ]
    },
    {
     "data": {
      "text/plain": [
       "['3']"
      ]
     },
     "execution_count": 27,
     "metadata": {},
     "output_type": "execute_result"
    }
   ],
   "source": [
    "re.findall('\\d$', 'This a number 6 not 43')"
   ]
  },
  {
   "cell_type": "code",
   "execution_count": 28,
   "id": "1f850380-7952-4955-976f-3e9bb9cacce3",
   "metadata": {},
   "outputs": [
    {
     "name": "stderr",
     "output_type": "stream",
     "text": [
      "<>:1: SyntaxWarning: invalid escape sequence '\\d'\n",
      "<>:1: SyntaxWarning: invalid escape sequence '\\d'\n",
      "C:\\Users\\Khushi\\AppData\\Local\\Temp\\ipykernel_14460\\1229895542.py:1: SyntaxWarning: invalid escape sequence '\\d'\n",
      "  re.findall('^\\d', '5 os This a number 6 not 4')\n"
     ]
    },
    {
     "data": {
      "text/plain": [
       "['5']"
      ]
     },
     "execution_count": 28,
     "metadata": {},
     "output_type": "execute_result"
    }
   ],
   "source": [
    "re.findall('^\\d', '5 os This a number 6 not 4')"
   ]
  },
  {
   "cell_type": "markdown",
   "id": "2ba00af3-283c-4663-9bd7-5ced2d258401",
   "metadata": {},
   "source": [
    "## Finding the Uppercase and Lowercase "
   ]
  },
  {
   "cell_type": "code",
   "execution_count": 29,
   "id": "95307a14-708f-4a0a-9992-774c533ae30d",
   "metadata": {},
   "outputs": [
    {
     "data": {
      "text/plain": [
       "['T']"
      ]
     },
     "execution_count": 29,
     "metadata": {},
     "output_type": "execute_result"
    }
   ],
   "source": [
    "re.findall('[A-Z]', 'This a number 6 not 4')"
   ]
  },
  {
   "cell_type": "code",
   "execution_count": 30,
   "id": "909fbe9b-e7c7-46b5-a21f-449c04b4dfc4",
   "metadata": {},
   "outputs": [
    {
     "data": {
      "text/plain": [
       "['h', 'i', 's', 'a', 'n', 'u', 'm', 'b', 'e', 'r', 'n', 'o', 't']"
      ]
     },
     "execution_count": 30,
     "metadata": {},
     "output_type": "execute_result"
    }
   ],
   "source": [
    "re.findall('[a-z]', 'This a number 6 not 4')"
   ]
  },
  {
   "cell_type": "code",
   "execution_count": 31,
   "id": "a0dc47b4-839c-41b5-b145-9793b5fd3919",
   "metadata": {},
   "outputs": [
    {
     "data": {
      "text/plain": [
       "['T', 'h', 'i', 's', 'a', 'n', 'u', 'm', 'b', 'e', 'r', 'n', 'o', 't']"
      ]
     },
     "execution_count": 31,
     "metadata": {},
     "output_type": "execute_result"
    }
   ],
   "source": [
    "re.findall('[A-Za-z]', 'This a number 6 not 4')"
   ]
  },
  {
   "cell_type": "markdown",
   "id": "a34f3d74-0400-464b-9e1f-b21ee7f149e5",
   "metadata": {},
   "source": [
    "## Finding the Uppercase and Lowercase and numbers"
   ]
  },
  {
   "cell_type": "code",
   "execution_count": 32,
   "id": "1ab54d48-ec54-42b9-85c0-71297e0fadf7",
   "metadata": {},
   "outputs": [
    {
     "data": {
      "text/plain": [
       "['T',\n",
       " 'h',\n",
       " 'i',\n",
       " 's',\n",
       " 'a',\n",
       " 'n',\n",
       " 'u',\n",
       " 'm',\n",
       " 'b',\n",
       " 'e',\n",
       " 'r',\n",
       " '6',\n",
       " 'n',\n",
       " 'o',\n",
       " 't',\n",
       " '4']"
      ]
     },
     "execution_count": 32,
     "metadata": {},
     "output_type": "execute_result"
    }
   ],
   "source": [
    "re.findall('[A-Za-z0-9]', 'This a number 6 not 4')"
   ]
  },
  {
   "cell_type": "code",
   "execution_count": 33,
   "id": "8953432b-3013-45aa-a324-3bfece19d0dc",
   "metadata": {},
   "outputs": [
    {
     "data": {
      "text/plain": [
       "['6', '4']"
      ]
     },
     "execution_count": 33,
     "metadata": {},
     "output_type": "execute_result"
    }
   ],
   "source": [
    "re.findall('[0-9]', 'This a number 6 not 4')"
   ]
  },
  {
   "cell_type": "code",
   "execution_count": null,
   "id": "3c9bb897-edc6-4f8a-86bd-869ab86cfaf3",
   "metadata": {},
   "outputs": [],
   "source": []
  },
  {
   "cell_type": "code",
   "execution_count": null,
   "id": "112b5e58-c257-44b1-a612-f14eac90610a",
   "metadata": {},
   "outputs": [],
   "source": []
  },
  {
   "cell_type": "code",
   "execution_count": null,
   "id": "e02ac322-5cfc-4679-98eb-ac1dfc0029f2",
   "metadata": {},
   "outputs": [],
   "source": []
  },
  {
   "cell_type": "markdown",
   "id": "60e0e047-bd40-44f1-842e-f45dda41213e",
   "metadata": {},
   "source": [
    "# Text Preprocessing"
   ]
  },
  {
   "cell_type": "markdown",
   "id": "60cddb18-80d7-4ddf-8398-bd47f4cad3bb",
   "metadata": {},
   "source": [
    "### Removing Special Characters\n"
   ]
  },
  {
   "cell_type": "code",
   "execution_count": 34,
   "id": "f3156ec4-c07a-426c-831f-d098fda1d23c",
   "metadata": {},
   "outputs": [],
   "source": [
    "txt='Khushi is happy ! but , why is she not smiling?'"
   ]
  },
  {
   "cell_type": "code",
   "execution_count": 36,
   "id": "bdf1eb34-a3c6-4259-9cc9-f49743a4965a",
   "metadata": {},
   "outputs": [
    {
     "data": {
      "text/plain": [
       "['Khushi is happy ', ' but , why is she not smiling']"
      ]
     },
     "execution_count": 36,
     "metadata": {},
     "output_type": "execute_result"
    }
   ],
   "source": [
    "re.findall('[^!?]+',txt)"
   ]
  },
  {
   "cell_type": "code",
   "execution_count": 37,
   "id": "4054153d-e901-4ce5-87cd-ab66129898de",
   "metadata": {},
   "outputs": [
    {
     "data": {
      "text/plain": [
       "'Khushi is happy  but , why is she not smiling'"
      ]
     },
     "execution_count": 37,
     "metadata": {},
     "output_type": "execute_result"
    }
   ],
   "source": [
    "''.join(re.findall('[^!?]+',txt))"
   ]
  },
  {
   "cell_type": "code",
   "execution_count": 38,
   "id": "0fdf0dc1-af97-4565-810d-d9254e9a37cc",
   "metadata": {},
   "outputs": [
    {
     "name": "stdout",
     "output_type": "stream",
     "text": [
      "['Geeks-for-Geeks', 'works-it-out', 'wklfd-dfjgk-fjkds']\n"
     ]
    },
    {
     "name": "stderr",
     "output_type": "stream",
     "text": [
      "<>:2: SyntaxWarning: invalid escape sequence '\\w'\n",
      "<>:2: SyntaxWarning: invalid escape sequence '\\w'\n",
      "C:\\Users\\Khushi\\AppData\\Local\\Temp\\ipykernel_14460\\3065340127.py:2: SyntaxWarning: invalid escape sequence '\\w'\n",
      "  print(re.findall('[\\w]+-[\\w]+-[\\w]+',txt))\n"
     ]
    }
   ],
   "source": [
    "txt=\"Hello I am studying from Geeks-for-Geeks and it is amazing.Let's see how this works-it-out, wklfd-dfjgk-fjkds\"\n",
    "print(re.findall('[\\w]+-[\\w]+-[\\w]+',txt))"
   ]
  },
  {
   "cell_type": "code",
   "execution_count": 39,
   "id": "5095040c-8079-442a-ba61-dae3b62cfa9c",
   "metadata": {},
   "outputs": [
    {
     "name": "stdout",
     "output_type": "stream",
     "text": [
      "6465343\n",
      "54353456\n",
      "45634534\n",
      "5354535\n",
      "4352346\n"
     ]
    },
    {
     "name": "stderr",
     "output_type": "stream",
     "text": [
      "<>:3: SyntaxWarning: invalid escape sequence '\\d'\n",
      "<>:3: SyntaxWarning: invalid escape sequence '\\d'\n",
      "C:\\Users\\Khushi\\AppData\\Local\\Temp\\ipykernel_14460\\1869375588.py:3: SyntaxWarning: invalid escape sequence '\\d'\n",
      "  print(str(re.findall('[\\d]+-[\\d]+-[\\d]' , no)[0]).replace('-',''))\n"
     ]
    }
   ],
   "source": [
    "for no in [\"64-6534-342\", \"543-5345-645\",\"4563-453-445\",\"53-5453-5345\",\"435-234-6324\"]:\n",
    "    \n",
    "    print(str(re.findall('[\\d]+-[\\d]+-[\\d]' , no)[0]).replace('-',''))\n"
   ]
  },
  {
   "cell_type": "markdown",
   "id": "395ac8bc-0db3-495d-9edb-58ec626a82ce",
   "metadata": {},
   "source": [
    "### EMAIL pattern matching"
   ]
  },
  {
   "cell_type": "code",
   "execution_count": 5,
   "id": "8af72c8f-fb65-40fc-b4ab-8c82bb489f0a",
   "metadata": {},
   "outputs": [
    {
     "name": "stderr",
     "output_type": "stream",
     "text": [
      "<>:3: SyntaxWarning: invalid escape sequence '\\w'\n",
      "<>:3: SyntaxWarning: invalid escape sequence '\\w'\n",
      "C:\\Users\\Khushi\\AppData\\Local\\Temp\\ipykernel_16504\\3802307312.py:3: SyntaxWarning: invalid escape sequence '\\w'\n",
      "  p = '[A-Za-z0-9]+@[\\w]+.[\\w]+'\n"
     ]
    },
    {
     "data": {
      "text/plain": [
       "<re.Match object; span=(0, 12), match='khushi@gmail'>"
      ]
     },
     "execution_count": 5,
     "metadata": {},
     "output_type": "execute_result"
    }
   ],
   "source": [
    "import re\n",
    "mail = 'khushi@gmail'\n",
    "p = '[A-Za-z0-9]+@[\\w]+.[\\w]+'\n",
    "\n",
    "re.search(p,mail)"
   ]
  },
  {
   "cell_type": "code",
   "execution_count": 7,
   "id": "3197886a-e297-44c9-94c6-d4540ed06065",
   "metadata": {},
   "outputs": [
    {
     "data": {
      "text/plain": [
       "'khushipandey@986.in'"
      ]
     },
     "execution_count": 7,
     "metadata": {},
     "output_type": "execute_result"
    }
   ],
   "source": [
    "re.search(p,'khushipandey@986.in').group()"
   ]
  },
  {
   "cell_type": "markdown",
   "id": "a26acf80-8ae8-4ab5-b0c3-1a75c21f3d3d",
   "metadata": {},
   "source": [
    "for specific domain email id"
   ]
  },
  {
   "cell_type": "code",
   "execution_count": 11,
   "id": "b235f0fc-e18f-4ada-ad8c-500e72e1ff15",
   "metadata": {},
   "outputs": [
    {
     "data": {
      "text/plain": [
       "<re.Match object; span=(0, 14), match='khushi@com.org'>"
      ]
     },
     "execution_count": 11,
     "metadata": {},
     "output_type": "execute_result"
    }
   ],
   "source": [
    "mail = 'khushi@com.org'\n",
    "p = '[A-Za-z0-9]+@(com).(org)$'\n",
    "\n",
    "re.search(p,mail)"
   ]
  },
  {
   "cell_type": "markdown",
   "id": "4b8c244b-3bd3-47b8-ab5a-f31e920cf4a7",
   "metadata": {},
   "source": [
    "## pattern matching for continous number"
   ]
  },
  {
   "cell_type": "code",
   "execution_count": 17,
   "id": "18651342-a700-4421-bc34-aa9b3c4ded31",
   "metadata": {},
   "outputs": [
    {
     "name": "stdout",
     "output_type": "stream",
     "text": [
      "Start 14\n",
      "End 23\n",
      "Start 28\n"
     ]
    }
   ],
   "source": [
    "txt='The number is 932192313 not 9524564'\n",
    "\n",
    "c=0\n",
    "index=[]\n",
    "\n",
    "for i in range(len(txt)):\n",
    "    if(txt[i].isdigit()==True):\n",
    "\n",
    "        if(c== 0):\n",
    "            print('Start',i)\n",
    "            \n",
    "        c+=1\n",
    "        \n",
    "        # print(txt[i],c,i)\n",
    "    else:\n",
    "        if(c!= 0):\n",
    "            end=i\n",
    "            print('End',i)        \n",
    "        c=0"
   ]
  },
  {
   "cell_type": "markdown",
   "id": "0b0a8a41-de66-4879-958f-1b11aa3f1d08",
   "metadata": {},
   "source": [
    "#### word stating with special characters"
   ]
  },
  {
   "cell_type": "markdown",
   "id": "de94e42a-8840-4548-978c-49af076c2fbe",
   "metadata": {},
   "source": [
    "## word finding"
   ]
  },
  {
   "cell_type": "code",
   "execution_count": 18,
   "id": "671229c7-ee9a-4926-a51a-7cb247c54c7e",
   "metadata": {},
   "outputs": [],
   "source": [
    "txt='khushi has good sense of humor'\n",
    "\n",
    "word='has'"
   ]
  },
  {
   "cell_type": "code",
   "execution_count": 19,
   "id": "e3197ca2-4b3a-4b65-95c3-69244a656136",
   "metadata": {},
   "outputs": [
    {
     "data": {
      "text/plain": [
       "True"
      ]
     },
     "execution_count": 19,
     "metadata": {},
     "output_type": "execute_result"
    }
   ],
   "source": [
    "word in txt"
   ]
  },
  {
   "cell_type": "code",
   "execution_count": 22,
   "id": "ad3131e5-5411-4202-9969-a1b6a2317f02",
   "metadata": {},
   "outputs": [
    {
     "name": "stdout",
     "output_type": "stream",
     "text": [
      "khu 0\n",
      "hus 1\n",
      "ush 2\n",
      "shi 3\n",
      "hi  4\n",
      "i h 5\n",
      " ha 6\n",
      "has 7\n",
      "as  8\n",
      "s g 9\n",
      " go 10\n",
      "goo 11\n",
      "ood 12\n",
      "od  13\n",
      "d s 14\n",
      " se 15\n",
      "sen 16\n",
      "ens 17\n",
      "nse 18\n",
      "se  19\n",
      "e o 20\n",
      " of 21\n",
      "of  22\n",
      "f h 23\n",
      " hu 24\n",
      "hum 25\n",
      "umo 26\n",
      "mor 27\n",
      "or 28\n",
      "r 29\n"
     ]
    }
   ],
   "source": [
    "for i in range(len(txt)):\n",
    "    print(txt[i:i+3],i)\n"
   ]
  },
  {
   "cell_type": "code",
   "execution_count": 26,
   "id": "1452101f-c2e3-4803-acf1-e3ae337f23d0",
   "metadata": {},
   "outputs": [
    {
     "name": "stdout",
     "output_type": "stream",
     "text": [
      "7 10\n"
     ]
    }
   ],
   "source": [
    "for i in range(len(txt)):\n",
    "    if(txt[i:i+len(word)]==word):\n",
    "        print(i,i+len(word))"
   ]
  },
  {
   "cell_type": "markdown",
   "id": "d7a852f9-987f-4fee-9afe-e1a54c70fd1b",
   "metadata": {},
   "source": [
    "### word starting with special characters"
   ]
  },
  {
   "cell_type": "code",
   "execution_count": 36,
   "id": "512a846a-ced0-4b1c-834b-656823ecb538",
   "metadata": {},
   "outputs": [],
   "source": [
    "txt='there is many small small thing which we need to explore and learn.start from now'\n",
    "word='sm'"
   ]
  },
  {
   "cell_type": "code",
   "execution_count": 37,
   "id": "dc24a37d-0040-4f76-99b7-80cf74d3bf45",
   "metadata": {},
   "outputs": [
    {
     "name": "stdout",
     "output_type": "stream",
     "text": [
      "small\n",
      "small\n"
     ]
    }
   ],
   "source": [
    "for wrd in txt.split(' '):\n",
    "    if (wrd[:2].lower() == word.lower()):\n",
    "        print(wrd)"
   ]
  },
  {
   "cell_type": "markdown",
   "id": "e6ab644e-aa5f-4ea4-96f1-0dd6f91a3cd7",
   "metadata": {},
   "source": [
    "## word ending with special characters"
   ]
  },
  {
   "cell_type": "code",
   "execution_count": 39,
   "id": "21c6ef19-0466-446d-953e-4725754203d1",
   "metadata": {},
   "outputs": [
    {
     "name": "stdout",
     "output_type": "stream",
     "text": [
      "there\n",
      "we\n",
      "explore\n"
     ]
    }
   ],
   "source": [
    "txt='there is many small small thing which we need to explore and learn.start from now'\n",
    "word='e'\n",
    "\n",
    "for wrd in txt.split(' '):\n",
    "    if (wrd[-1:].lower() == word.lower()):\n",
    "        print(wrd)"
   ]
  },
  {
   "cell_type": "code",
   "execution_count": 43,
   "id": "9c0fc507-8ee0-4019-9a18-c756adb2ba36",
   "metadata": {},
   "outputs": [
    {
     "name": "stdout",
     "output_type": "stream",
     "text": [
      "there is\n",
      "is many\n",
      "many small\n",
      "small small\n",
      "small thing\n",
      "thing which\n",
      "which we\n",
      "we need\n",
      "need to\n",
      "to explore\n",
      "explore and\n",
      "and learn.start\n",
      "learn.start from\n",
      "from now\n"
     ]
    }
   ],
   "source": [
    "txt='there is many small small thing which we need to explore and learn.start from now'\n",
    "\n",
    "for i in range(len(txt.split(' '))-1):\n",
    "    print(txt.split(' ')[i],txt.split(' ')[i+1])"
   ]
  },
  {
   "cell_type": "markdown",
   "id": "09ffc598-8ee3-4a86-a834-b44af23e0801",
   "metadata": {},
   "source": [
    "## Email extraction"
   ]
  },
  {
   "cell_type": "code",
   "execution_count": 45,
   "id": "f0b17819-f286-4a50-910b-38b58f631d3b",
   "metadata": {},
   "outputs": [],
   "source": [
    "mails=['khushipandey@gmail.com'\n",
    "       ,'paripandey@yahoo.com','abc@servic.com']"
   ]
  },
  {
   "cell_type": "code",
   "execution_count": 51,
   "id": "11e6a5e9-d080-4cda-9db9-6b203ef866b2",
   "metadata": {},
   "outputs": [
    {
     "name": "stdout",
     "output_type": "stream",
     "text": [
      "khushipandey@gmail.com\n",
      "paripandey@yahoo.com\n",
      "abc@servic.com\n"
     ]
    }
   ],
   "source": [
    "for mail in  mails:\n",
    "    print(mail)"
   ]
  },
  {
   "cell_type": "code",
   "execution_count": 52,
   "id": "f7f69520-eb04-439b-9c0c-6f08146c0d81",
   "metadata": {},
   "outputs": [
    {
     "name": "stdout",
     "output_type": "stream",
     "text": [
      "khushipandey@gmail.com ['khushipandey', 'gmail.com']\n",
      "paripandey@yahoo.com ['paripandey', 'yahoo.com']\n",
      "abc@servic.com ['abc', 'servic.com']\n"
     ]
    }
   ],
   "source": [
    "for mail in  mails:\n",
    "    print(mail,mail.split('@'))"
   ]
  },
  {
   "cell_type": "code",
   "execution_count": 53,
   "id": "c3b28268-e9ab-4c78-a632-00994f5cf379",
   "metadata": {},
   "outputs": [
    {
     "name": "stdout",
     "output_type": "stream",
     "text": [
      "['khushipandey', 'paripandey', 'abc']\n",
      "['gmail', 'yahoo', 'servic']\n",
      "['com', 'com', 'com']\n"
     ]
    }
   ],
   "source": [
    "user_id = []\n",
    "host_name = []\n",
    "domain_type = []\n",
    "\n",
    "# Loop through each email in the list\n",
    "for mail in mails:\n",
    "    # Extract and append the user id (part before '@')\n",
    "    user_id.append(mail.split('@')[0])\n",
    "    \n",
    "    # Extract and append the host name (part between '@' and first '.')\n",
    "    host_name.append(mail.split('@')[1].split('.')[0])\n",
    "    \n",
    "    # Extract and append the domain type (part after first '.')\n",
    "    domain_type.append('.'.join(mail.split('@')[1].split('.')[1:]))\n",
    "\n",
    "# Print the results\n",
    "print(user_id)  # List of user ids\n",
    "print(host_name)  # List of host names\n",
    "print(domain_type)  # List of domain types"
   ]
  },
  {
   "cell_type": "code",
   "execution_count": null,
   "id": "33362d95-230e-4dea-99f1-497f7eb9ceb7",
   "metadata": {},
   "outputs": [],
   "source": []
  }
 ],
 "metadata": {
  "kernelspec": {
   "display_name": "Python 3 (ipykernel)",
   "language": "python",
   "name": "python3"
  },
  "language_info": {
   "codemirror_mode": {
    "name": "ipython",
    "version": 3
   },
   "file_extension": ".py",
   "mimetype": "text/x-python",
   "name": "python",
   "nbconvert_exporter": "python",
   "pygments_lexer": "ipython3",
   "version": "3.12.0"
  }
 },
 "nbformat": 4,
 "nbformat_minor": 5
}
